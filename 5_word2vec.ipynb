{
 "cells": [
  {
   "cell_type": "markdown",
   "metadata": {
    "colab_type": "text",
    "id": "D7tqLMoKF6uq"
   },
   "source": [
    "Deep Learning\n",
    "=============\n",
    "\n",
    "Assignment 5\n",
    "------------\n",
    "\n",
    "The goal of this assignment is to train a Word2Vec skip-gram model over [Text8](http://mattmahoney.net/dc/textdata) data."
   ]
  },
  {
   "cell_type": "code",
   "execution_count": 3,
   "metadata": {
    "cellView": "both",
    "colab": {
     "autoexec": {
      "startup": false,
      "wait_interval": 0
     }
    },
    "colab_type": "code",
    "id": "0K1ZyLn04QZf"
   },
   "outputs": [
    {
     "name": "stderr",
     "output_type": "stream",
     "text": [
      "/usr/local/lib/python2.7/dist-packages/matplotlib/font_manager.py:273: UserWarning: Matplotlib is building the font cache using fc-list. This may take a moment.\n",
      "  warnings.warn('Matplotlib is building the font cache using fc-list. This may take a moment.')\n"
     ]
    }
   ],
   "source": [
    "# These are all the modules we'll be using later. Make sure you can import them\n",
    "# before proceeding further.\n",
    "%matplotlib inline\n",
    "from __future__ import print_function\n",
    "import collections\n",
    "import math\n",
    "import numpy as np\n",
    "import os\n",
    "import random\n",
    "import tensorflow as tf\n",
    "import zipfile\n",
    "from matplotlib import pylab\n",
    "from six.moves import range\n",
    "from six.moves.urllib.request import urlretrieve\n",
    "from sklearn.manifold import TSNE"
   ]
  },
  {
   "cell_type": "markdown",
   "metadata": {
    "colab_type": "text",
    "id": "aCjPJE944bkV"
   },
   "source": [
    "Download the data from the source website if necessary."
   ]
  },
  {
   "cell_type": "code",
   "execution_count": 5,
   "metadata": {
    "cellView": "both",
    "colab": {
     "autoexec": {
      "startup": false,
      "wait_interval": 0
     },
     "output_extras": [
      {
       "item_id": 1
      }
     ]
    },
    "colab_type": "code",
    "executionInfo": {
     "elapsed": 14640,
     "status": "ok",
     "timestamp": 1445964482948,
     "user": {
      "color": "#1FA15D",
      "displayName": "Vincent Vanhoucke",
      "isAnonymous": false,
      "isMe": true,
      "permissionId": "05076109866853157986",
      "photoUrl": "//lh6.googleusercontent.com/-cCJa7dTDcgQ/AAAAAAAAAAI/AAAAAAAACgw/r2EZ_8oYer4/s50-c-k-no/photo.jpg",
      "sessionId": "2f1ffade4c9f20de",
      "userId": "102167687554210253930"
     },
     "user_tz": 420
    },
    "id": "RJ-o3UBUFtCw",
    "outputId": "c4ec222c-80b5-4298-e635-93ca9f79c3b7"
   },
   "outputs": [
    {
     "name": "stdout",
     "output_type": "stream",
     "text": [
      "Found and verified text8.zip\n"
     ]
    }
   ],
   "source": [
    "url = 'http://mattmahoney.net/dc/'\n",
    "\n",
    "def maybe_download(filename, expected_bytes):\n",
    "    \"\"\"Download a file if not present, and make sure it's the right size.\"\"\"\n",
    "    if not os.path.exists(filename):\n",
    "        filename, _ = urlretrieve(url + filename, filename)\n",
    "    statinfo = os.stat(filename)\n",
    "    if statinfo.st_size == expected_bytes:\n",
    "        print('Found and verified %s' % filename)\n",
    "    else:\n",
    "        print(statinfo.st_size)\n",
    "        raise Exception(\n",
    "          'Failed to verify ' + filename + '. Can you get to it with a browser?')\n",
    "    return filename\n",
    "\n",
    "filename = maybe_download('text8.zip', 31344016)"
   ]
  },
  {
   "cell_type": "markdown",
   "metadata": {
    "colab_type": "text",
    "id": "Zqz3XiqI4mZT"
   },
   "source": [
    "Read the data into a string."
   ]
  },
  {
   "cell_type": "code",
   "execution_count": 6,
   "metadata": {
    "cellView": "both",
    "colab": {
     "autoexec": {
      "startup": false,
      "wait_interval": 0
     },
     "output_extras": [
      {
       "item_id": 1
      }
     ]
    },
    "colab_type": "code",
    "executionInfo": {
     "elapsed": 28844,
     "status": "ok",
     "timestamp": 1445964497165,
     "user": {
      "color": "#1FA15D",
      "displayName": "Vincent Vanhoucke",
      "isAnonymous": false,
      "isMe": true,
      "permissionId": "05076109866853157986",
      "photoUrl": "//lh6.googleusercontent.com/-cCJa7dTDcgQ/AAAAAAAAAAI/AAAAAAAACgw/r2EZ_8oYer4/s50-c-k-no/photo.jpg",
      "sessionId": "2f1ffade4c9f20de",
      "userId": "102167687554210253930"
     },
     "user_tz": 420
    },
    "id": "Mvf09fjugFU_",
    "outputId": "e3a928b4-1645-4fe8-be17-fcf47de5716d"
   },
   "outputs": [
    {
     "name": "stdout",
     "output_type": "stream",
     "text": [
      "Data size 17005207\n"
     ]
    }
   ],
   "source": [
    "def read_data(filename):\n",
    "    \"\"\"Extract the first file enclosed in a zip file as a list of words\"\"\"\n",
    "    with zipfile.ZipFile(filename) as f:\n",
    "        data = tf.compat.as_str(f.read(f.namelist()[0])).split()\n",
    "    return data\n",
    "  \n",
    "words = read_data(filename)\n",
    "print('Data size %d' % len(words))"
   ]
  },
  {
   "cell_type": "markdown",
   "metadata": {
    "colab_type": "text",
    "id": "Zdw6i4F8glpp"
   },
   "source": [
    "Build the dictionary and replace rare words with UNK token."
   ]
  },
  {
   "cell_type": "code",
   "execution_count": 7,
   "metadata": {
    "cellView": "both",
    "colab": {
     "autoexec": {
      "startup": false,
      "wait_interval": 0
     },
     "output_extras": [
      {
       "item_id": 1
      }
     ]
    },
    "colab_type": "code",
    "executionInfo": {
     "elapsed": 28849,
     "status": "ok",
     "timestamp": 1445964497178,
     "user": {
      "color": "#1FA15D",
      "displayName": "Vincent Vanhoucke",
      "isAnonymous": false,
      "isMe": true,
      "permissionId": "05076109866853157986",
      "photoUrl": "//lh6.googleusercontent.com/-cCJa7dTDcgQ/AAAAAAAAAAI/AAAAAAAACgw/r2EZ_8oYer4/s50-c-k-no/photo.jpg",
      "sessionId": "2f1ffade4c9f20de",
      "userId": "102167687554210253930"
     },
     "user_tz": 420
    },
    "id": "gAL1EECXeZsD",
    "outputId": "3fb4ecd1-df67-44b6-a2dc-2291730970b2"
   },
   "outputs": [
    {
     "name": "stdout",
     "output_type": "stream",
     "text": [
      "Most common words (+UNK) [['UNK', 418391], ('the', 1061396), ('of', 593677), ('and', 416629), ('one', 411764)]\n",
      "Sample data [5239, 3084, 12, 6, 195, 2, 3137, 46, 59, 156]\n"
     ]
    }
   ],
   "source": [
    "vocabulary_size = 50000 # This is an arbitrary number desired to limit the word being looked at\n",
    "\n",
    "def build_dataset(words):\n",
    "    '''\n",
    "    words are raw space separated strings. (if the original source did not normalize, \n",
    "    then the words are not normalized)\n",
    "    '''\n",
    "    count = [['UNK', -1]]\n",
    "    count.extend(collections.Counter(words).most_common(vocabulary_size - 1))\n",
    "    dictionary = dict()\n",
    "    for word, _ in count:\n",
    "        # These word from count should be unique\n",
    "        # dictionary:\n",
    "        #   key: the word, distinct, and no repeat\n",
    "        #   value: id of the word, unique id of the word\n",
    "        dictionary[word] = len(dictionary) # The length will be growing like an index\n",
    "    # `count` as a list of tuples\n",
    "    # `dictionary` as map mapping words to rankings. index 0 word is being used the most\n",
    "    data = list()\n",
    "    # `data` will be as big as `words`\n",
    "    unk_count = 0\n",
    "    for word in words:\n",
    "        if word in dictionary:\n",
    "            index = dictionary[word]\n",
    "        else:\n",
    "            index = 0  # dictionary['UNK']\n",
    "            unk_count = unk_count + 1\n",
    "        # `data` will be looking like a huge vector\n",
    "        data.append(index)\n",
    "    # update the unknown word count since we choose to limit the vocabulary size!\n",
    "    count[0][1] = unk_count\n",
    "    #\n",
    "    # reverse dictionary\n",
    "    #   key: unique ids of the word, the smaller the id, the higher frequent use of the word\n",
    "    #   value: word\n",
    "    #\n",
    "    reverse_dictionary = dict(zip(dictionary.values(), dictionary.keys())) \n",
    "    return data, count, dictionary, reverse_dictionary\n",
    "\n",
    "data, count, dictionary, reverse_dictionary = build_dataset(words)\n",
    "print('Most common words (+UNK)', count[:5])\n",
    "print('Sample data', data[:10])\n",
    "del words  # Hint to reduce memory."
   ]
  },
  {
   "cell_type": "markdown",
   "metadata": {
    "colab_type": "text",
    "id": "lFwoyygOmWsL"
   },
   "source": [
    "Function to generate a training batch for the skip-gram model."
   ]
  },
  {
   "cell_type": "code",
   "execution_count": 5,
   "metadata": {
    "cellView": "both",
    "colab": {
     "autoexec": {
      "startup": false,
      "wait_interval": 0
     },
     "output_extras": [
      {
       "item_id": 1
      }
     ]
    },
    "colab_type": "code",
    "executionInfo": {
     "elapsed": 113,
     "status": "ok",
     "timestamp": 1445964901989,
     "user": {
      "color": "#1FA15D",
      "displayName": "Vincent Vanhoucke",
      "isAnonymous": false,
      "isMe": true,
      "permissionId": "05076109866853157986",
      "photoUrl": "//lh6.googleusercontent.com/-cCJa7dTDcgQ/AAAAAAAAAAI/AAAAAAAACgw/r2EZ_8oYer4/s50-c-k-no/photo.jpg",
      "sessionId": "2f1ffade4c9f20de",
      "userId": "102167687554210253930"
     },
     "user_tz": 420
    },
    "id": "w9APjA-zmfjV",
    "outputId": "67cccb02-cdaf-4e47-d489-43bcc8d57bb8"
   },
   "outputs": [
    {
     "name": "stdout",
     "output_type": "stream",
     "text": [
      "data: ['anarchism', 'originated', 'as', 'a', 'term', 'of', 'abuse', 'first']\n",
      "\n",
      "with num_skips = 2 and skip_window = 1:\n",
      "    batch: ['originated', 'originated', 'as', 'as', 'a', 'a', 'term', 'term']\n",
      "    labels: ['anarchism', 'as', 'originated', 'a', 'term', 'as', 'of', 'a']\n",
      "\n",
      "with num_skips = 4 and skip_window = 2:\n",
      "    batch: ['as', 'as', 'as', 'as', 'a', 'a', 'a', 'a']\n",
      "    labels: ['anarchism', 'term', 'a', 'originated', 'originated', 'term', 'of', 'as']\n"
     ]
    }
   ],
   "source": [
    "data_index = 0\n",
    "\n",
    "def generate_batch(batch_size, num_skips, skip_window):\n",
    "    global data_index\n",
    "    assert batch_size % num_skips == 0\n",
    "    assert num_skips <= 2 * skip_window\n",
    "    batch = np.ndarray(shape=(batch_size), dtype=np.int32)\n",
    "    labels = np.ndarray(shape=(batch_size, 1), dtype=np.int32)\n",
    "    span = 2 * skip_window + 1 # [ skip_window_target_skip_window ]\n",
    "    buffer = collections.deque(maxlen=span)\n",
    "    for _ in range(span):\n",
    "        buffer.append(data[data_index]) # data[data_index] is fetching a word's ranking at data_index \n",
    "        data_index = (data_index + 1) % len(data)\n",
    "    for i in range(batch_size // num_skips):\n",
    "        target = skip_window  # target label at the center of the buffer\n",
    "        targets_to_avoid = [ skip_window ]\n",
    "        for j in range(num_skips):\n",
    "            while target in targets_to_avoid:\n",
    "                target = random.randint(0, span - 1)\n",
    "            targets_to_avoid.append(target)\n",
    "            batch[i * num_skips + j] = buffer[skip_window]\n",
    "            labels[i * num_skips + j, 0] = buffer[target]  ### Label does not contain the skipped word\n",
    "        buffer.append(data[data_index])\n",
    "        data_index = (data_index + 1) % len(data)\n",
    "    return batch, labels\n",
    "\n",
    "print('data:', [reverse_dictionary[di] for di in data[:8]])\n",
    "\n",
    "# This loop is just demonstrate the purpose of the function `generate_batch`\n",
    "for num_skips, skip_window in [(2, 1), (4, 2)]:\n",
    "    data_index = 0\n",
    "    batch, labels = generate_batch(batch_size=8, num_skips=num_skips, skip_window=skip_window)\n",
    "    print('\\nwith num_skips = %d and skip_window = %d:' % (num_skips, skip_window))\n",
    "    print('    batch:', [reverse_dictionary[bi] for bi in batch])\n",
    "    print('    labels:', [reverse_dictionary[li] for li in labels.reshape(8)])"
   ]
  },
  {
   "cell_type": "markdown",
   "metadata": {
    "colab_type": "text",
    "id": "Ofd1MbBuwiva"
   },
   "source": [
    "#### Model: Build Graph"
   ]
  },
  {
   "cell_type": "code",
   "execution_count": 8,
   "metadata": {
    "cellView": "both",
    "colab": {
     "autoexec": {
      "startup": false,
      "wait_interval": 0
     }
    },
    "colab_type": "code",
    "collapsed": true,
    "id": "8pQKsV4Vwlzy"
   },
   "outputs": [],
   "source": [
    "batch_size = 128\n",
    "embedding_size = 128 # Dimension of the embedding vector.\n",
    "skip_window = 1 # How many words to consider left and right.\n",
    "num_skips = 2 # How many times to reuse an input to generate a label.\n",
    "# We pick a random validation set to sample nearest neighbors. here we limit the\n",
    "# validation samples to the words that have a low numeric ID, which by\n",
    "# construction are also the most frequent. \n",
    "valid_size = 16 # Random set of words to evaluate similarity on.\n",
    "valid_window = 100 # Only pick dev samples in the head of the distribution.\n",
    "valid_examples = np.array(random.sample(range(valid_window), valid_size))\n",
    "num_sampled = 64 # Number of negative examples to sample.\n",
    "\n",
    "graph = tf.Graph()\n",
    "\n",
    "with graph.as_default(), tf.device('/cpu:0'):\n",
    "\n",
    "    # Input data.\n",
    "    train_dataset = tf.placeholder(tf.int32, shape=[batch_size])\n",
    "    train_labels  = tf.placeholder(tf.int32, shape=[batch_size, 1])\n",
    "    valid_dataset = tf.constant(valid_examples, dtype=tf.int32)\n",
    "  \n",
    "    # Variables.\n",
    "    embeddings      = tf.Variable(tf.random_uniform([vocabulary_size, embedding_size], -1.0, 1.0))\n",
    "    softmax_weights = tf.Variable(tf.truncated_normal([vocabulary_size, embedding_size], \n",
    "                                                      stddev=1.0 / math.sqrt(embedding_size)))\n",
    "    softmax_biases  = tf.Variable(tf.zeros([vocabulary_size]))\n",
    "  \n",
    "    # Model.!!\n",
    "    # Look up embeddings for inputs.\n",
    "    embed = tf.nn.embedding_lookup(embeddings, train_dataset)\n",
    "    # Compute the softmax loss, using a sample of the negative labels each time.\n",
    "    loss = tf.reduce_mean(\n",
    "                tf.nn.sampled_softmax_loss( softmax_weights, \n",
    "                                            softmax_biases, \n",
    "                                            embed,\n",
    "                                            train_labels,\n",
    "                                            num_sampled, \n",
    "                                            vocabulary_size))\n",
    "\n",
    "    # Optimizer.\n",
    "    # Note: The optimizer will optimize the softmax_weights AND the embeddings.\n",
    "    # This is because the embeddings are defined as a variable quantity and the\n",
    "    # optimizer's `minimize` method will by default modify all variable quantities \n",
    "    # that contribute to the tensor it is passed.\n",
    "    # See docs on `tf.train.Optimizer.minimize()` for more details.\n",
    "    optimizer = tf.train.AdagradOptimizer(1.0).minimize(loss)\n",
    "  \n",
    "    # Compute the similarity between minibatch examples and all embeddings.\n",
    "    # We use the cosine distance:\n",
    "    norm                  = tf.sqrt(tf.reduce_sum(tf.square(embeddings), 1, keep_dims=True))\n",
    "    normalized_embeddings = embeddings / norm\n",
    "    valid_embeddings      = tf.nn.embedding_lookup(normalized_embeddings, valid_dataset)\n",
    "    # The 'cosine similarity'\n",
    "    similarity            = tf.matmul(valid_embeddings, tf.transpose(normalized_embeddings))"
   ]
  },
  {
   "cell_type": "markdown",
   "metadata": {},
   "source": [
    "#### Session: Tensor flowing"
   ]
  },
  {
   "cell_type": "code",
   "execution_count": 10,
   "metadata": {
    "cellView": "both",
    "colab": {
     "autoexec": {
      "startup": false,
      "wait_interval": 0
     },
     "output_extras": [
      {
       "item_id": 23
      },
      {
       "item_id": 48
      },
      {
       "item_id": 61
      }
     ]
    },
    "colab_type": "code",
    "executionInfo": {
     "elapsed": 436189,
     "status": "ok",
     "timestamp": 1445965429787,
     "user": {
      "color": "#1FA15D",
      "displayName": "Vincent Vanhoucke",
      "isAnonymous": false,
      "isMe": true,
      "permissionId": "05076109866853157986",
      "photoUrl": "//lh6.googleusercontent.com/-cCJa7dTDcgQ/AAAAAAAAAAI/AAAAAAAACgw/r2EZ_8oYer4/s50-c-k-no/photo.jpg",
      "sessionId": "2f1ffade4c9f20de",
      "userId": "102167687554210253930"
     },
     "user_tz": 420
    },
    "id": "1bQFGceBxrWW",
    "outputId": "5ebd6d9a-33c6-4bcd-bf6d-252b0b6055e4"
   },
   "outputs": [
    {
     "name": "stdout",
     "output_type": "stream",
     "text": [
      "Initialized\n",
      "Average loss at step 0: 7.431950\n",
      "Nearest to history: wept, handbook, majors, bradman, haggai, highlighting, premature, memorandum,\n",
      "Nearest to this: nusa, distributist, tablets, insurmountable, leda, tapered, taliaferro, lei,\n",
      "Nearest to an: eugenicists, taxes, moss, gloss, doppelbock, mandela, kyushu, intron,\n",
      "Nearest to b: liquified, leftover, davies, uni, underline, unequivocal, ibrahim, yokoi,\n",
      "Nearest to as: regenerative, trader, emphases, nhk, financial, lyrically, lamorna, protestants,\n",
      "Nearest to but: confront, mothman, lynch, presupposition, selection, gerhardt, competency, calcio,\n",
      "Nearest to called: discount, eternal, thaler, orchestras, orson, picchi, anime, controlling,\n",
      "Nearest to at: arms, razzie, marcellinus, murderous, albania, nations, shortness, waveform,\n",
      "Nearest to american: goalscorer, vitruvius, paisiello, endowed, grrm, semiconductor, feyerabend, infeasible,\n",
      "Nearest to first: symbionts, sud, asean, minimalism, utilise, moderating, transitioned, sauropods,\n",
      "Nearest to it: exarchate, treatises, ventris, hydrocarbon, flashpoint, psychologist, zyklon, isolated,\n",
      "Nearest to seven: gunmen, sia, metro, mescaline, pk, apathetic, instinctive, betters,\n",
      "Nearest to can: combats, dispatches, bd, msp, buffet, abrupt, emancipated, vel,\n",
      "Nearest to has: raid, visualize, feared, alphonso, vulnerability, repaid, miniaturized, ophile,\n",
      "Nearest to will: render, descartes, shingles, theater, delayed, perished, saves, replicants,\n",
      "Nearest to zero: domitius, focused, nasa, saunders, dislike, segregated, hair, menabrea,\n",
      "Average loss at step 2000: 4.354613\n",
      "Average loss at step 4000: 3.862563\n",
      "Average loss at step 6000: 3.785912\n",
      "Average loss at step 8000: 3.685558\n",
      "Average loss at step 10000: 3.616134\n",
      "Nearest to history: wept, bradman, kh, gaeilge, chipping, memorandum, batmobile, pared,\n",
      "Nearest to this: it, which, the, a, taliaferro, some, distributist, that,\n",
      "Nearest to an: rabbinic, taxes, dismounted, the, shareholder, transports, this, pagerank,\n",
      "Nearest to b: d, liquified, uni, unequivocal, leftover, davies, underline, chiropractors,\n",
      "Nearest to as: by, cruciform, chau, vox, synthesized, gy, be, quantified,\n",
      "Nearest to but: confront, nextstep, dialectics, and, presupposition, or, ecuadorian, regard,\n",
      "Nearest to called: discount, misskelley, eternal, replacement, mold, openings, jannah, machine,\n",
      "Nearest to at: in, from, antennae, orinoco, waveform, toughest, cathode, arms,\n",
      "Nearest to american: prompt, lexicographic, relinquish, jordan, endowed, paisiello, feyerabend, doughnuts,\n",
      "Nearest to first: largest, best, moderating, where, during, societies, nonetheless, big,\n",
      "Nearest to it: he, this, there, no, not, which, what, we,\n",
      "Nearest to seven: six, eight, three, four, five, nine, zero, two,\n",
      "Nearest to can: may, could, would, will, ultrasonic, benz, cons, buu,\n",
      "Nearest to has: have, had, was, is, deo, flory, bilaterally, approximating,\n",
      "Nearest to will: would, can, spade, hitch, shingles, nepos, hyperion, safin,\n",
      "Nearest to zero: nine, eight, six, five, seven, three, four, two,\n",
      "Average loss at step 12000: 3.599257\n",
      "Average loss at step 14000: 3.567206\n",
      "Average loss at step 16000: 3.410485\n",
      "Average loss at step 18000: 3.458625\n",
      "Average loss at step 20000: 3.535788\n",
      "Nearest to history: wept, kh, bradman, pared, volt, gaeilge, kamen, chipping,\n",
      "Nearest to this: it, which, the, what, that, distributist, governorates, galla,\n",
      "Nearest to an: rabbinic, checkpoint, the, consulates, cancer, met, poppers, bbbb,\n",
      "Nearest to b: d, masterful, elfin, underwing, unsolicited, uni, dachshund, commodore,\n",
      "Nearest to as: gy, lowball, statements, supermarkets, textbook, by, quantified, very,\n",
      "Nearest to but: however, that, which, and, or, chimpanzee, if, adaption,\n",
      "Nearest to called: slideshow, daley, pollack, discount, misskelley, podium, shrapnel, renoir,\n",
      "Nearest to at: in, on, from, antennae, during, within, and, nast,\n",
      "Nearest to american: british, prompt, french, relinquish, german, endowed, english, lexicographic,\n",
      "Nearest to first: best, largest, nonetheless, ionized, annunciation, egalitarian, during, digesting,\n",
      "Nearest to it: he, this, there, which, they, she, not, no,\n",
      "Nearest to seven: six, eight, four, nine, five, three, zero, two,\n",
      "Nearest to can: may, could, will, would, might, should, cannot, must,\n",
      "Nearest to has: had, have, was, is, fh, deo, approximating, bodyguard,\n",
      "Nearest to will: would, may, can, could, nepos, might, must, spade,\n",
      "Nearest to zero: five, six, seven, eight, nine, four, three, two,\n",
      "Average loss at step 22000: 3.499355\n",
      "Average loss at step 24000: 3.494506\n",
      "Average loss at step 26000: 3.483635\n",
      "Average loss at step 28000: 3.478687\n",
      "Average loss at step 30000: 3.500341\n",
      "Nearest to history: pared, volt, gaeilge, kh, bradman, kamen, stafford, johannes,\n",
      "Nearest to this: it, which, that, any, what, taliaferro, he, lamo,\n",
      "Nearest to an: rabbinic, checkpoint, this, taxes, transports, consulates, illegal, lamellar,\n",
      "Nearest to b: d, topped, dachshund, tullius, phoenix, guyana, waterborne, unsolicited,\n",
      "Nearest to as: by, chengdu, urbana, kidnappings, discard, finn, aonb, vedic,\n",
      "Nearest to but: however, although, that, which, see, and, nextstep, canteen,\n",
      "Nearest to called: used, slideshow, pollack, meantone, named, seabirds, daley, podium,\n",
      "Nearest to at: in, antennae, during, nast, on, suffix, prolong, waveform,\n",
      "Nearest to american: british, prompt, lexicographic, international, english, german, french, canadian,\n",
      "Nearest to first: second, last, largest, best, refracted, next, nonetheless, grunge,\n",
      "Nearest to it: he, there, this, she, they, which, usually, not,\n",
      "Nearest to seven: eight, five, nine, six, four, three, zero, one,\n",
      "Nearest to can: may, will, could, would, might, should, cannot, must,\n",
      "Nearest to has: had, have, was, is, holographic, bilaterally, resembles, netanyahu,\n",
      "Nearest to will: would, can, may, could, must, might, should, nepos,\n",
      "Nearest to zero: five, eight, seven, four, three, six, nine, two,\n",
      "Average loss at step 32000: 3.504594\n",
      "Average loss at step 34000: 3.492815\n",
      "Average loss at step 36000: 3.455762\n",
      "Average loss at step 38000: 3.303460\n",
      "Average loss at step 40000: 3.434214\n",
      "Nearest to history: volt, hologram, hyperbola, kh, kamen, unilaterally, pared, johannes,\n",
      "Nearest to this: which, it, that, some, the, any, distributist, taliaferro,\n",
      "Nearest to an: rabbinic, consulates, checkpoint, lamellar, energized, transports, another, justifying,\n",
      "Nearest to b: d, tullius, c, lombard, UNK, topped, r, m,\n",
      "Nearest to as: by, when, vox, kidnappings, lowball, daydream, be, exempted,\n",
      "Nearest to but: however, although, and, it, that, cebit, though, see,\n",
      "Nearest to called: named, used, seabirds, beneficiary, pollack, phenomenology, slideshow, vase,\n",
      "Nearest to at: on, during, nast, waveform, prolong, in, multics, http,\n",
      "Nearest to american: british, australian, international, german, opulent, baum, daunting, canadian,\n",
      "Nearest to first: last, second, next, best, nonetheless, gish, largest, refracted,\n",
      "Nearest to it: he, there, they, she, this, which, but, still,\n",
      "Nearest to seven: six, eight, nine, five, four, three, zero, two,\n",
      "Nearest to can: will, may, could, would, should, might, cannot, must,\n",
      "Nearest to has: had, have, was, is, holographic, fh, quatrain, bilaterally,\n",
      "Nearest to will: would, can, could, may, might, must, should, cannot,\n",
      "Nearest to zero: seven, nine, five, eight, six, four, three, sts,\n",
      "Average loss at step 42000: 3.433052\n",
      "Average loss at step 44000: 3.451833\n",
      "Average loss at step 46000: 3.445191\n",
      "Average loss at step 48000: 3.349461\n",
      "Average loss at step 50000: 3.381922\n",
      "Nearest to history: list, hyperbola, hologram, volt, unilaterally, subpage, earners, silesia,\n",
      "Nearest to this: which, it, the, that, what, mclaughlin, he, vespasian,\n",
      "Nearest to an: consulates, transports, rabbinic, varro, fallen, the, another, justifying,\n",
      "Nearest to b: d, tullius, x, lombard, boo, c, r, mak,\n",
      "Nearest to as: kidnappings, chau, exempted, delivers, when, ordering, pagerank, by,\n",
      "Nearest to but: however, although, and, while, though, when, where, which,\n",
      "Nearest to called: named, slideshow, used, shrapnel, seabirds, ethnological, beneficiary, archetypal,\n",
      "Nearest to at: within, nast, during, prairie, in, prolong, on, unrestrained,\n",
      "Nearest to american: international, british, australian, italian, canadian, indian, english, german,\n",
      "Nearest to first: second, last, next, final, best, same, third, present,\n",
      "Nearest to it: he, she, there, this, they, intersystems, still, now,\n",
      "Nearest to seven: eight, six, nine, three, four, five, zero, two,\n",
      "Nearest to can: may, could, will, would, might, must, cannot, should,\n",
      "Nearest to has: had, have, is, was, having, since, nite, meritocracy,\n",
      "Nearest to will: would, can, could, may, must, might, should, cannot,\n",
      "Nearest to zero: seven, five, eight, six, four, three, nine, two,\n",
      "Average loss at step 52000: 3.434586\n",
      "Average loss at step 54000: 3.424225\n",
      "Average loss at step 56000: 3.438108\n",
      "Average loss at step 58000: 3.398724\n",
      "Average loss at step 60000: 3.392458\n",
      "Nearest to history: list, hologram, hyperbola, volt, kamen, geography, medlineplus, development,\n",
      "Nearest to this: it, which, that, the, there, what, some, pray,\n",
      "Nearest to an: rabbinic, consulates, fallen, transports, auras, lira, maximize, bowlers,\n",
      "Nearest to b: d, r, lombard, c, l, tullius, m, n,\n",
      "Nearest to as: mahathir, erlang, when, centralized, alc, urbana, became, softening,\n",
      "Nearest to but: however, although, and, though, see, confidant, than, or,\n",
      "Nearest to called: used, named, considered, seabirds, slideshow, kip, recruitment, phenomenology,\n",
      "Nearest to at: in, prairie, toughest, nast, orinoco, multics, within, seventeenth,\n",
      "Nearest to american: british, international, australian, german, canadian, italian, african, beatles,\n",
      "Nearest to first: second, last, next, best, same, third, earliest, final,\n",
      "Nearest to it: he, there, this, she, which, they, not, that,\n",
      "Nearest to seven: eight, four, five, nine, six, three, zero, two,\n",
      "Nearest to can: may, could, will, would, must, might, cannot, should,\n",
      "Nearest to has: had, have, was, is, includes, having, contains, uncountably,\n",
      "Nearest to will: would, could, can, may, must, should, might, cannot,\n",
      "Nearest to zero: five, four, eight, seven, six, three, nine, million,\n",
      "Average loss at step 62000: 3.242761\n",
      "Average loss at step 64000: 3.256406\n",
      "Average loss at step 66000: 3.401695\n",
      "Average loss at step 68000: 3.392990\n",
      "Average loss at step 70000: 3.358363\n",
      "Nearest to history: list, hyperbola, volt, kamen, hologram, approximation, detective, gunmen,\n",
      "Nearest to this: it, which, the, that, another, mackie, galla, some,\n",
      "Nearest to an: rabbinic, fallen, consulates, bowlers, the, varro, auras, gloss,\n",
      "Nearest to b: d, r, tullius, lombard, l, j, n, h,\n",
      "Nearest to as: is, like, shields, dot, enlists, gy, kirtland, denethor,\n",
      "Nearest to but: however, although, though, and, see, that, which, while,\n",
      "Nearest to called: named, considered, used, papal, known, appointees, seabirds, recruitment,\n",
      "Nearest to at: during, within, in, multics, coulomb, frameworks, on, almost,\n",
      "Nearest to american: british, beatles, australian, canadian, international, eviction, african, english,\n",
      "Nearest to first: second, last, next, best, third, final, ridings, earliest,\n",
      "Nearest to it: he, there, she, this, they, then, intersystems, usually,\n",
      "Nearest to seven: eight, six, four, nine, five, three, zero, two,\n",
      "Nearest to can: may, could, would, will, might, should, must, cannot,\n",
      "Nearest to has: had, have, is, was, since, contains, nite, revolve,\n",
      "Nearest to will: would, could, can, may, must, should, might, cannot,\n",
      "Nearest to zero: five, eight, six, four, seven, nine, three, two,\n",
      "Average loss at step 72000: 3.374726\n",
      "Average loss at step 74000: 3.344900\n",
      "Average loss at step 76000: 3.318934\n",
      "Average loss at step 78000: 3.350494\n",
      "Average loss at step 80000: 3.378279\n",
      "Nearest to history: list, volt, hyperbola, hologram, founder, medlineplus, approximation, bomis,\n",
      "Nearest to this: it, which, the, what, some, that, another, joaquim,\n",
      "Nearest to an: consulates, lira, rabbinic, bowlers, varro, lamellar, airlines, landform,\n",
      "Nearest to b: d, lombard, r, l, c, m, tullius, abdel,\n",
      "Nearest to as: gy, quantified, peress, exempted, including, shields, mistrust, denethor,\n",
      "Nearest to but: however, although, see, though, or, while, and, than,\n",
      "Nearest to called: named, used, known, considered, referred, papal, kip, climbed,\n",
      "Nearest to at: in, multics, on, worthies, during, waveform, within, frameworks,\n",
      "Nearest to american: british, canadian, australian, italian, international, german, french, african,\n",
      "Nearest to first: second, last, next, best, third, final, same, gish,\n",
      "Nearest to it: he, she, there, this, they, not, tenniel, intersystems,\n",
      "Nearest to seven: six, eight, four, five, nine, three, one, zero,\n",
      "Nearest to can: could, may, will, would, must, cannot, should, might,\n",
      "Nearest to has: had, have, is, was, includes, nite, since, contains,\n",
      "Nearest to will: would, could, can, may, must, should, cannot, might,\n",
      "Nearest to zero: five, seven, four, six, eight, nine, three, million,\n",
      "Average loss at step 82000: 3.405871\n",
      "Average loss at step 84000: 3.408701\n",
      "Average loss at step 86000: 3.387205\n",
      "Average loss at step 88000: 3.353430\n",
      "Average loss at step 90000: 3.365430\n",
      "Nearest to history: list, hologram, volt, hyperbola, tour, putney, gunmen, origin,\n",
      "Nearest to this: it, which, the, some, any, what, another, joaquim,\n",
      "Nearest to an: consulates, varro, rabbinic, another, marred, steadfastly, bowlers, earning,\n",
      "Nearest to b: d, l, tullius, lombard, c, r, boo, drawbacks,\n",
      "Nearest to as: kirtland, urbana, laurier, recanted, including, became, decent, aonb,\n",
      "Nearest to but: however, although, and, though, which, see, while, he,\n",
      "Nearest to called: named, used, considered, known, referred, conquered, beneficiary, papal,\n",
      "Nearest to at: on, during, in, under, isps, renal, unrestrained, near,\n",
      "Nearest to american: british, australian, canadian, italian, english, french, african, international,\n",
      "Nearest to first: second, last, next, best, third, earliest, final, largest,\n",
      "Nearest to it: he, she, there, this, they, intersystems, which, usually,\n",
      "Nearest to seven: eight, five, six, four, nine, three, zero, one,\n",
      "Nearest to can: could, may, will, would, must, cannot, should, might,\n",
      "Nearest to has: had, have, is, was, since, includes, having, nite,\n",
      "Nearest to will: would, could, can, may, must, should, might, cannot,\n",
      "Nearest to zero: seven, five, eight, six, four, three, nine, two,\n",
      "Average loss at step 92000: 3.390981\n",
      "Average loss at step 94000: 3.251702\n",
      "Average loss at step 96000: 3.359999\n",
      "Average loss at step 98000: 3.241699\n",
      "Average loss at step 100000: 3.357391\n",
      "Nearest to history: list, volt, hologram, gunmen, tour, baskerville, motherboard, putney,\n",
      "Nearest to this: it, which, joaquim, another, what, labial, mathbb, braille,\n",
      "Nearest to an: consulates, rabbinic, lira, lamellar, another, bowlers, hazing, newbies,\n",
      "Nearest to b: d, lombard, tullius, williams, decisively, applauded, touma, erupted,\n",
      "Nearest to as: kidnappings, quantified, shields, carracci, like, when, wheelchair, including,\n",
      "Nearest to but: however, although, and, though, while, subunit, when, certainly,\n",
      "Nearest to called: named, considered, used, referred, known, waylon, papal, negotiators,\n",
      "Nearest to at: during, within, in, on, prolong, waveform, toughest, isps,\n",
      "Nearest to american: british, canadian, australian, italian, french, international, russian, english,\n",
      "Nearest to first: last, next, second, third, best, final, fourth, same,\n",
      "Nearest to it: he, she, this, there, they, intersystems, nothing, what,\n",
      "Nearest to seven: eight, six, nine, five, four, three, zero, two,\n",
      "Nearest to can: could, may, will, would, cannot, should, must, might,\n",
      "Nearest to has: had, have, is, since, was, requires, nite, pringle,\n",
      "Nearest to will: would, could, can, may, must, should, cannot, might,\n",
      "Nearest to zero: five, four, seven, six, eight, nine, three, million,\n"
     ]
    }
   ],
   "source": [
    "num_steps = 100001\n",
    "\n",
    "with tf.Session(graph=graph) as session:\n",
    "    tf.initialize_all_variables().run() # Newer versions of tensorflow, it changed name to initialize_all_variables\n",
    "    print('Initialized')\n",
    "    average_loss = 0\n",
    "    for step in range(num_steps):\n",
    "        batch_data, batch_labels = generate_batch(batch_size, num_skips, skip_window)\n",
    "        feed_dict = {train_dataset : batch_data, train_labels : batch_labels}\n",
    "        _, l = session.run([optimizer, loss], feed_dict=feed_dict)\n",
    "        average_loss += l\n",
    "        if step % 2000 == 0:\n",
    "            if step > 0:\n",
    "                average_loss = average_loss / 2000\n",
    "            # The average loss is an estimate of the loss over the last 2000 batches.\n",
    "            print('Average loss at step %d: %f' % (step, average_loss))\n",
    "            average_loss = 0\n",
    "        # note that this is expensive (~20% slowdown if computed every 500 steps)\n",
    "        if step % 10000 == 0:\n",
    "            sim = similarity.eval()\n",
    "            print('shape of similarity %s' % (sim.shape))\n",
    "            for i in range(valid_size):\n",
    "                valid_word = reverse_dictionary[valid_examples[i]]\n",
    "                top_k = 8 # number of nearest neighbors\n",
    "                #\n",
    "                # argsort is a numpy function\n",
    "                #\n",
    "                nearest = (-sim[i, :]).argsort()[1:top_k+1]\n",
    "                log = 'Nearest to %s:' % valid_word\n",
    "                for k in range(top_k):\n",
    "                    close_word = reverse_dictionary[nearest[k]]\n",
    "                    log = '%s %s,' % (log, close_word)\n",
    "                print(log)\n",
    "    final_embeddings = normalized_embeddings.eval()"
   ]
  },
  {
   "cell_type": "code",
   "execution_count": 15,
   "metadata": {
    "cellView": "both",
    "colab": {
     "autoexec": {
      "startup": false,
      "wait_interval": 0
     }
    },
    "colab_type": "code",
    "id": "jjJXYA_XzV79"
   },
   "outputs": [
    {
     "name": "stdout",
     "output_type": "stream",
     "text": [
      "(40, 2)\n"
     ]
    }
   ],
   "source": [
    "num_points = 40\n",
    "\n",
    "tsne = TSNE(perplexity=30, n_components=2, init='pca', n_iter=5000)\n",
    "two_d_embeddings = tsne.fit_transform(final_embeddings[1:num_points+1, :])\n",
    "print(two_d_embeddings.shape)"
   ]
  },
  {
   "cell_type": "code",
   "execution_count": 14,
   "metadata": {
    "cellView": "both",
    "colab": {
     "autoexec": {
      "startup": false,
      "wait_interval": 0
     },
     "output_extras": [
      {
       "item_id": 1
      }
     ]
    },
    "colab_type": "code",
    "executionInfo": {
     "elapsed": 4763,
     "status": "ok",
     "timestamp": 1445965465525,
     "user": {
      "color": "#1FA15D",
      "displayName": "Vincent Vanhoucke",
      "isAnonymous": false,
      "isMe": true,
      "permissionId": "05076109866853157986",
      "photoUrl": "//lh6.googleusercontent.com/-cCJa7dTDcgQ/AAAAAAAAAAI/AAAAAAAACgw/r2EZ_8oYer4/s50-c-k-no/photo.jpg",
      "sessionId": "2f1ffade4c9f20de",
      "userId": "102167687554210253930"
     },
     "user_tz": 420
    },
    "id": "o_e0D_UezcDe",
    "outputId": "df22e4a5-e8ec-4e5e-d384-c6cf37c68c34"
   },
   "outputs": [
    {
     "data": {
      "image/png": "[encoded data removed]",
      "text/plain": [
       "<matplotlib.figure.Figure at 0x7f9d4d650710>"
      ]
     },
     "metadata": {},
     "output_type": "display_data"
    }
   ],
   "source": [
    "def plot(embeddings, labels):\n",
    "    assert embeddings.shape[0] >= len(labels), 'More labels than embeddings'\n",
    "    pylab.figure(figsize=(15,15))  # in inches\n",
    "    for i, label in enumerate(labels):\n",
    "        x, y = embeddings[i,:]\n",
    "        pylab.scatter(x, y)\n",
    "        pylab.annotate(label, xy=(x, y), xytext=(5, 2), textcoords='offset points',\n",
    "                       ha='right', va='bottom')\n",
    "    pylab.show()\n",
    "\n",
    "words = [reverse_dictionary[i] for i in range(1, num_points+1)]\n",
    "plot(two_d_embeddings, words)"
   ]
  },
  {
   "cell_type": "markdown",
   "metadata": {
    "colab_type": "text",
    "id": "QB5EFrBnpNnc"
   },
   "source": [
    "---\n",
    "\n",
    "Problem\n",
    "-------\n",
    "\n",
    "An alternative to skip-gram is another Word2Vec model called [CBOW](http://arxiv.org/abs/1301.3781) (Continuous Bag of Words). In the CBOW model, instead of predicting a context word from a word vector, you predict a word from the sum of all the word vectors in its context. Implement and evaluate a CBOW model trained on the text8 dataset.\n",
    "\n",
    "---"
   ]
  },
  {
   "cell_type": "markdown",
   "metadata": {},
   "source": [
    "### Most important part is the Graph of the CBOW"
   ]
  },
  {
   "cell_type": "code",
   "execution_count": 8,
   "metadata": {},
   "outputs": [],
   "source": [
    "batch_size = 128\n",
    "embedding_size = 128 # Dimension of the embedding vector.\n",
    "skip_window = 1 # How many words to consider left and right.\n",
    "num_skips = 2 # How many times to reuse an input to generate a label.\n",
    "# We pick a random validation set to sample nearest neighbors. here we limit the\n",
    "# validation samples to the words that have a low numeric ID, which by\n",
    "# construction are also the most frequent. \n",
    "valid_size = 16 # Random set of words to evaluate similarity on.\n",
    "valid_window = 100 # Only pick dev samples in the head of the distribution.\n",
    "valid_examples = np.array(random.sample(range(valid_window), valid_size))\n",
    "num_sampled = 64 # Number of negative examples to sample.\n",
    "\n",
    "cbow_graph = tf.Graph()\n",
    "\n",
    "with cbow_graph.as_default(), tf.device('/cpu:0'):\n",
    "\n",
    "    # Input data.\n",
    "    train_dataset = tf.placeholder(tf.int32, shape=[batch_size])\n",
    "    train_labels  = tf.placeholder(tf.int32, shape=[batch_size, 1])\n",
    "    valid_dataset = tf.constant(valid_examples, dtype=tf.int32)\n",
    "  \n",
    "    # Variables.\n",
    "    embeddings      = tf.Variable(tf.random_uniform([vocabulary_size, embedding_size], -1.0, 1.0))\n",
    "    softmax_weights = tf.Variable(tf.truncated_normal([vocabulary_size, embedding_size], \n",
    "                                                      stddev=1.0 / math.sqrt(embedding_size)))\n",
    "    softmax_biases  = tf.Variable(tf.zeros([vocabulary_size]))\n",
    "  \n",
    "    # Model.!!\n",
    "    # Look up embeddings for inputs.\n",
    "    embed = tf.nn.embedding_lookup(embeddings, train_dataset)\n",
    "    # Compute the softmax loss, using a sample of the negative labels each time.\n",
    "    loss = tf.reduce_mean(\n",
    "                tf.nn.sampled_softmax_loss( softmax_weights, \n",
    "                                            softmax_biases, \n",
    "                                            embed,\n",
    "                                            train_labels,\n",
    "                                            num_sampled, \n",
    "                                            vocabulary_size))\n",
    "\n",
    "    # Optimizer.\n",
    "    # Note: The optimizer will optimize the softmax_weights AND the embeddings.\n",
    "    # This is because the embeddings are defined as a variable quantity and the\n",
    "    # optimizer's `minimize` method will by default modify all variable quantities \n",
    "    # that contribute to the tensor it is passed.\n",
    "    # See docs on `tf.train.Optimizer.minimize()` for more details.\n",
    "    optimizer = tf.train.AdagradOptimizer(1.0).minimize(loss)\n",
    "  \n",
    "    # Compute the similarity between minibatch examples and all embeddings.\n",
    "    # We use the cosine distance:\n",
    "    norm                  = tf.sqrt(tf.reduce_sum(tf.square(embeddings), 1, keep_dims=True))\n",
    "    normalized_embeddings = embeddings / norm\n",
    "    valid_embeddings      = tf.nn.embedding_lookup(normalized_embeddings, valid_dataset)\n",
    "    # The 'cosine similarity'\n",
    "    similarity            = tf.matmul(valid_embeddings, tf.transpose(normalized_embeddings))"
   ]
  },
  {
   "cell_type": "markdown",
   "metadata": {},
   "source": [
    "### CBOW version of batch generation"
   ]
  },
  {
   "cell_type": "code",
   "execution_count": 9,
   "metadata": {
    "collapsed": true
   },
   "outputs": [],
   "source": [
    "data_index = 0\n",
    "\n",
    "def generate_cbow_batch(batch_size, num_skips, skip_window):\n",
    "    global data_index\n",
    "    assert batch_size % num_skips == 0\n",
    "    assert num_skips <= 2 * skip_window\n",
    "    batch = np.ndarray(shape=(batch_size), dtype=np.int32)\n",
    "    labels = np.ndarray(shape=(batch_size, 1), dtype=np.int32)\n",
    "    span = 2 * skip_window + 1 # [ skip_window_target_skip_window ]\n",
    "    buffer = collections.deque(maxlen=span)\n",
    "    for _ in range(span):\n",
    "        buffer.append(data[data_index]) # data[data_index] is fetching a word's ranking at data_index \n",
    "        data_index = (data_index + 1) % len(data)\n",
    "    for i in range(batch_size // num_skips):\n",
    "        target = skip_window  # target label at the center of the buffer\n",
    "        targets_to_avoid = [ skip_window ]\n",
    "        for j in range(num_skips):\n",
    "            while target in targets_to_avoid:\n",
    "                target = random.randint(0, span - 1)\n",
    "            targets_to_avoid.append(target)\n",
    "            batch[i * num_skips + j] = buffer[target]\n",
    "            labels[i * num_skips + j, 0] = buffer[skip_window]  ### Label does not contain the skipped word\n",
    "        buffer.append(data[data_index])\n",
    "        data_index = (data_index + 1) % len(data)\n",
    "    return batch, labels\n"
   ]
  },
  {
   "cell_type": "markdown",
   "metadata": {},
   "source": [
    "### The Second Important Part: Sessions of the CBOW training!"
   ]
  },
  {
   "cell_type": "code",
   "execution_count": 12,
   "metadata": {},
   "outputs": [
    {
     "name": "stdout",
     "output_type": "stream",
     "text": [
      "Initialized\n",
      "Average loss at step 0: 7.566306\n",
      "Nearest to be: abyssinia, uzbekistan, iwerks, stab, inquisitorial, anne, technische, mathers,\n",
      "Nearest to some: steeply, nuanced, dia, towering, return, ovum, enclosure, nico,\n",
      "Nearest to up: diskettes, rel, sse, overpowered, stereotype, waals, netbios, respective,\n",
      "Nearest to can: centers, ndez, dioceses, fictionalized, vail, crack, masoretes, spaces,\n",
      "Nearest to its: icosahedron, mahmud, panned, wisest, wrong, diffraction, graal, jonathan,\n",
      "Nearest to and: admin, bestiaries, dodo, violin, loo, retail, sidekick, aleister,\n",
      "Nearest to would: annals, eucharistic, hawkeye, lavender, trist, maastricht, iwo, neolithic,\n",
      "Nearest to use: unedited, claw, saddle, alberts, formulations, superiors, virgo, haemoglobin,\n",
      "Nearest to three: weierstrass, interdict, habitability, ribozymes, solicited, eigenvectors, bartle, kath,\n",
      "Nearest to was: hand, erstwhile, nelson, yeah, clu, cupid, marjoram, scene,\n",
      "Nearest to many: petrus, curry, connected, virulent, lyle, best, typologically, downhill,\n",
      "Nearest to used: gays, disinterested, demoscene, deployable, bright, genetics, squared, urinate,\n",
      "Nearest to most: presque, kyushu, tokugawa, gomez, lengthwise, psychosomatic, tcp, minuet,\n",
      "Nearest to states: eras, admission, manicheanism, silas, steadfastly, dg, reaching, arabians,\n",
      "Nearest to war: travel, dundas, growers, san, impulses, reproducible, architectures, chisholm,\n",
      "Nearest to while: jurgen, peikoff, romanorum, ambassador, jarre, zhukov, elimination, airlift,\n",
      "Average loss at step 2000: 4.361197\n",
      "Average loss at step 4000: 3.859506\n",
      "Average loss at step 6000: 3.791132\n",
      "Average loss at step 8000: 3.684861\n",
      "Average loss at step 10000: 3.614212\n",
      "Nearest to be: have, by, was, is, hydra, abyssinia, as, micrometres,\n",
      "Nearest to some: this, many, each, any, nuanced, minibuses, nico, these,\n",
      "Nearest to up: rel, stereotype, diskettes, expressway, damper, merchandising, better, abner,\n",
      "Nearest to can: could, would, must, will, plebs, diuretics, true, hammett,\n",
      "Nearest to its: the, his, their, incendiary, italics, this, toulon, artistically,\n",
      "Nearest to and: or, s, b, american, but, radiometer, tab, imo,\n",
      "Nearest to would: should, will, can, hawkeye, could, transforms, trist, to,\n",
      "Nearest to use: claw, unedited, bitmaps, virgo, poison, telephus, pits, rest,\n",
      "Nearest to three: four, five, six, seven, eight, two, zero, nine,\n",
      "Nearest to was: is, were, has, by, had, cryonicists, be, tested,\n",
      "Nearest to many: some, lyle, other, inquisitorial, curry, heifer, toxicology, impacted,\n",
      "Nearest to used: able, reel, known, lepton, found, cops, offense, meteorologists,\n",
      "Nearest to most: presque, vitamins, rosa, cpa, herbs, brussels, duration, mothers,\n",
      "Nearest to states: eras, dg, admission, silas, arabians, insulating, pomona, reaching,\n",
      "Nearest to war: travel, neither, trinity, coloureds, methionine, joost, bridal, conflict,\n",
      "Nearest to while: peikoff, jurgen, romanorum, tierra, jarre, elimination, mca, over,\n",
      "Average loss at step 12000: 3.605885\n",
      "Average loss at step 14000: 3.568327\n",
      "Average loss at step 16000: 3.408747\n",
      "Average loss at step 18000: 3.458602\n",
      "Average loss at step 20000: 3.538010\n",
      "Nearest to be: have, been, is, were, by, was, being, hydra,\n",
      "Nearest to some: many, these, several, any, most, all, this, other,\n",
      "Nearest to up: stereotype, them, diskettes, expressway, damper, rel, vasco, better,\n",
      "Nearest to can: may, would, could, must, will, should, might, plebs,\n",
      "Nearest to its: their, his, the, imperfections, this, italics, a, mensheviks,\n",
      "Nearest to and: or, but, in, byelorussia, from, for, which, picts,\n",
      "Nearest to would: will, can, should, could, may, to, hawkeye, transforms,\n",
      "Nearest to use: unedited, overuse, virgo, rest, claw, telephus, poison, cree,\n",
      "Nearest to three: five, four, six, two, seven, eight, one, zero,\n",
      "Nearest to was: is, were, has, had, became, be, radiometer, unsettled,\n",
      "Nearest to many: some, several, these, all, other, sts, toxicology, most,\n",
      "Nearest to used: found, known, able, lepton, dive, reel, cops, meteorologists,\n",
      "Nearest to most: vitamins, some, cpa, more, presque, brussels, laysan, many,\n",
      "Nearest to states: eras, gymnasium, dg, silas, reputed, admission, settling, insulating,\n",
      "Nearest to war: methionine, travel, merritt, magnus, conflict, impulses, neither, architectures,\n",
      "Nearest to while: peikoff, romanorum, webern, tierra, where, quizzes, over, jarre,\n",
      "Average loss at step 22000: 3.497943\n",
      "Average loss at step 24000: 3.490182\n",
      "Average loss at step 26000: 3.476614\n",
      "Average loss at step 28000: 3.482419\n",
      "Average loss at step 30000: 3.501409\n",
      "Nearest to be: have, been, is, were, was, being, give, are,\n",
      "Nearest to some: many, these, several, all, any, this, most, their,\n",
      "Nearest to up: them, damper, him, stereotype, diskettes, expressway, vasco, place,\n",
      "Nearest to can: may, could, would, will, must, should, might, cannot,\n",
      "Nearest to its: their, his, the, imperfections, discos, incendiary, pygmy, republics,\n",
      "Nearest to and: or, but, in, ita, of, however, majin, who,\n",
      "Nearest to would: could, will, can, may, should, must, might, to,\n",
      "Nearest to use: overuse, rest, telephus, apply, unedited, magic, virgo, anesthesia,\n",
      "Nearest to three: five, four, six, seven, eight, two, zero, nine,\n",
      "Nearest to was: is, had, were, has, became, been, skier, be,\n",
      "Nearest to many: some, several, these, various, those, other, all, most,\n",
      "Nearest to used: known, found, able, described, licensed, lepton, meteorologists, offense,\n",
      "Nearest to most: more, some, many, vitamins, presque, laysan, brussels, among,\n",
      "Nearest to states: gymnasium, eras, reputed, dg, admission, beavis, rosario, conditioning,\n",
      "Nearest to war: magnus, methionine, tcp, travel, coloureds, conflict, neither, meleon,\n",
      "Nearest to while: peikoff, tierra, where, when, is, though, webern, was,\n",
      "Average loss at step 32000: 3.495149\n",
      "Average loss at step 34000: 3.493338\n",
      "Average loss at step 36000: 3.452549\n",
      "Average loss at step 38000: 3.302035\n",
      "Average loss at step 40000: 3.425151\n",
      "Nearest to be: been, have, being, is, hydra, was, were, are,\n",
      "Nearest to some: many, these, several, any, this, their, various, each,\n",
      "Nearest to up: them, him, out, damper, down, diskettes, vasco, place,\n",
      "Nearest to can: would, could, may, will, must, should, might, cannot,\n",
      "Nearest to its: their, his, the, her, imperfections, corruption, discos, whose,\n",
      "Nearest to and: or, but, like, including, in, b, unaffected, crescas,\n",
      "Nearest to would: can, will, could, may, should, must, might, did,\n",
      "Nearest to use: overuse, telephus, rest, apply, magic, seem, problems, possess,\n",
      "Nearest to three: five, six, four, seven, two, eight, nine, zero,\n",
      "Nearest to was: is, has, were, had, became, been, be, being,\n",
      "Nearest to many: several, some, these, various, those, most, such, other,\n",
      "Nearest to used: known, found, able, described, referred, written, seen, held,\n",
      "Nearest to most: more, many, among, presque, duration, vitamins, several, laysan,\n",
      "Nearest to states: kingdom, gymnasium, rosario, nmt, conditioning, elsinore, reputed, dg,\n",
      "Nearest to war: magnus, impulses, methionine, trinity, travel, poured, tcp, meleon,\n",
      "Nearest to while: when, but, though, although, peikoff, however, or, were,\n",
      "Average loss at step 42000: 3.428381\n",
      "Average loss at step 44000: 3.456125\n",
      "Average loss at step 46000: 3.451613\n",
      "Average loss at step 48000: 3.354346\n",
      "Average loss at step 50000: 3.383390\n",
      "Nearest to be: being, have, been, was, provide, were, continue, is,\n",
      "Nearest to some: many, several, these, most, this, both, various, any,\n",
      "Nearest to up: them, him, out, down, damper, place, stereotype, vasco,\n",
      "Nearest to can: could, may, would, will, must, should, cannot, might,\n",
      "Nearest to its: their, his, the, her, imperfections, whose, our, irritated,\n",
      "Nearest to and: or, but, while, including, boehm, like, however, in,\n",
      "Nearest to would: will, could, can, may, should, must, might, did,\n",
      "Nearest to use: overuse, rest, telephus, apply, unedited, claw, terms, convenient,\n",
      "Nearest to three: six, four, seven, five, two, eight, nine, zero,\n",
      "Nearest to was: is, were, has, became, had, be, been, bner,\n",
      "Nearest to many: some, several, these, various, those, both, most, such,\n",
      "Nearest to used: known, described, able, found, referred, written, available, added,\n",
      "Nearest to most: more, many, among, some, vitamins, several, cpa, laysan,\n",
      "Nearest to states: kingdom, rosario, gymnasium, reputed, dg, eras, owners, conditioning,\n",
      "Nearest to war: magnus, methionine, tcp, poured, travel, trinity, neither, masturbating,\n",
      "Nearest to while: when, although, but, however, though, where, if, after,\n",
      "Average loss at step 52000: 3.434148\n",
      "Average loss at step 54000: 3.427034\n",
      "Average loss at step 56000: 3.432595\n",
      "Average loss at step 58000: 3.398128\n",
      "Average loss at step 60000: 3.394039\n",
      "Nearest to be: been, is, are, being, was, have, become, hydra,\n",
      "Nearest to some: many, several, any, these, all, this, most, each,\n",
      "Nearest to up: out, them, him, down, damper, straight, stereotype, off,\n",
      "Nearest to can: may, would, could, will, must, should, might, cannot,\n",
      "Nearest to its: their, his, her, the, imperfections, whose, our, wartburg,\n",
      "Nearest to and: or, but, including, like, bodied, unwanted, coppersmith, in,\n",
      "Nearest to would: will, could, can, may, should, must, might, cannot,\n",
      "Nearest to use: overuse, telephus, apply, psychological, rest, meritocracy, insurgency, seem,\n",
      "Nearest to three: five, four, six, eight, two, seven, nine, zero,\n",
      "Nearest to was: is, had, became, were, has, been, although, be,\n",
      "Nearest to many: some, several, various, these, most, such, all, those,\n",
      "Nearest to used: described, found, known, referred, able, written, available, seen,\n",
      "Nearest to most: more, among, many, some, laysan, duration, all, vitamins,\n",
      "Nearest to states: kingdom, nations, eras, countries, owners, dg, state, rosario,\n",
      "Nearest to war: magnus, methionine, wars, tcp, aten, poured, conflict, mcintyre,\n",
      "Nearest to while: although, when, though, were, after, if, where, elegy,\n",
      "Average loss at step 62000: 3.244590\n",
      "Average loss at step 64000: 3.259294\n",
      "Average loss at step 66000: 3.399013\n",
      "Average loss at step 68000: 3.396660\n",
      "Average loss at step 70000: 3.358029\n",
      "Nearest to be: been, is, were, being, have, become, was, are,\n",
      "Nearest to some: many, several, these, any, all, those, various, their,\n",
      "Nearest to up: them, out, down, him, damper, place, straight, off,\n",
      "Nearest to can: may, could, would, will, must, should, cannot, might,\n",
      "Nearest to its: their, his, her, the, our, imperfections, whose, contamination,\n",
      "Nearest to and: or, while, but, including, include, like, of, obstruct,\n",
      "Nearest to would: will, could, can, may, should, must, might, cannot,\n",
      "Nearest to use: overuse, terms, apply, rest, meritocracy, psychological, telephus, seem,\n",
      "Nearest to three: four, five, six, two, eight, seven, nine, zero,\n",
      "Nearest to was: is, has, had, were, became, been, be, skier,\n",
      "Nearest to many: some, several, various, these, all, most, few, those,\n",
      "Nearest to used: known, described, referred, found, available, seen, written, designed,\n",
      "Nearest to most: more, many, among, some, less, duration, all, cpa,\n",
      "Nearest to states: kingdom, countries, nations, state, eras, conditioning, dg, performances,\n",
      "Nearest to war: magnus, wars, conflict, materialism, methionine, tcp, aten, engl,\n",
      "Nearest to while: although, when, though, however, after, if, where, and,\n",
      "Average loss at step 72000: 3.372110\n",
      "Average loss at step 74000: 3.344836\n",
      "Average loss at step 76000: 3.314832\n",
      "Average loss at step 78000: 3.351520\n",
      "Average loss at step 80000: 3.378860\n",
      "Nearest to be: been, being, have, become, is, was, are, easily,\n",
      "Nearest to some: many, several, these, any, various, most, certain, all,\n",
      "Nearest to up: out, down, them, off, him, damper, straight, place,\n",
      "Nearest to can: could, may, would, will, should, cannot, must, might,\n",
      "Nearest to its: their, his, her, our, imperfections, the, whose, your,\n",
      "Nearest to and: or, including, but, while, remey, by, which, however,\n",
      "Nearest to would: will, could, can, may, should, might, must, did,\n",
      "Nearest to use: apply, meritocracy, psychological, treatment, overuse, telephus, seem, start,\n",
      "Nearest to three: four, five, six, two, seven, eight, nine, zero,\n",
      "Nearest to was: is, were, became, had, has, been, being, be,\n",
      "Nearest to many: several, some, various, these, most, numerous, both, all,\n",
      "Nearest to used: known, referred, written, described, seen, designed, found, available,\n",
      "Nearest to most: more, many, some, among, less, cpa, nets, discus,\n",
      "Nearest to states: kingdom, nations, countries, state, plasmids, eras, conditioning, lapsed,\n",
      "Nearest to war: magnus, wars, tcp, israelis, conflict, materialism, aten, luxemburg,\n",
      "Nearest to while: although, though, however, when, after, but, or, including,\n",
      "Average loss at step 82000: 3.409840\n",
      "Average loss at step 84000: 3.406469\n",
      "Average loss at step 86000: 3.387802\n",
      "Average loss at step 88000: 3.345990\n",
      "Average loss at step 90000: 3.363329\n",
      "Nearest to be: been, was, have, become, being, is, easily, provide,\n",
      "Nearest to some: many, several, these, any, all, certain, both, interpretations,\n",
      "Nearest to up: out, off, down, them, straight, back, him, damper,\n",
      "Nearest to can: could, may, will, would, must, should, might, cannot,\n",
      "Nearest to its: their, his, her, the, our, imperfections, compliance, your,\n",
      "Nearest to and: or, but, while, although, including, header, horrific, of,\n",
      "Nearest to would: will, could, may, can, should, might, must, did,\n",
      "Nearest to use: treatment, apply, psychological, meritocracy, telephus, start, overuse, terms,\n",
      "Nearest to three: four, five, two, seven, eight, six, nine, zero,\n",
      "Nearest to was: is, had, became, were, has, be, elwood, been,\n",
      "Nearest to many: several, some, these, various, numerous, all, few, both,\n",
      "Nearest to used: referred, designed, known, seen, able, described, found, available,\n",
      "Nearest to most: more, many, some, several, among, laysan, less, largest,\n",
      "Nearest to states: kingdom, eras, nations, us, countries, plasmids, rosario, lapsed,\n",
      "Nearest to war: wars, magnus, tcp, conflict, poured, vietnam, maritimes, luxemburg,\n",
      "Nearest to while: although, when, though, after, however, but, before, during,\n",
      "Average loss at step 92000: 3.397379\n",
      "Average loss at step 94000: 3.250018\n",
      "Average loss at step 96000: 3.361198\n",
      "Average loss at step 98000: 3.243271\n",
      "Average loss at step 100000: 3.358824\n",
      "Nearest to be: been, have, is, easily, become, was, being, are,\n",
      "Nearest to some: many, several, any, these, certain, all, various, those,\n",
      "Nearest to up: out, off, down, back, straight, them, him, damper,\n",
      "Nearest to can: may, could, will, would, must, should, cannot, might,\n",
      "Nearest to its: their, his, her, imperfections, our, the, contamination, compliance,\n",
      "Nearest to and: or, but, while, including, however, although, who, nor,\n",
      "Nearest to would: will, could, can, should, may, might, must, cannot,\n",
      "Nearest to use: treatment, meritocracy, psychological, apply, telephus, start, principles, rest,\n",
      "Nearest to three: four, two, five, six, seven, eight, nine, zero,\n",
      "Nearest to was: is, became, has, were, had, been, be, partitioning,\n",
      "Nearest to many: several, some, various, these, numerous, all, those, few,\n",
      "Nearest to used: found, able, designed, referred, seen, written, known, described,\n",
      "Nearest to most: more, among, cpa, many, less, quite, highly, laysan,\n",
      "Nearest to states: kingdom, nations, countries, eras, plasmids, arab, unsteady, performances,\n",
      "Nearest to war: wars, magnus, tcp, conflict, israelis, poured, lotharingia, vietnam,\n",
      "Nearest to while: although, when, though, where, and, after, elegy, mindless,\n"
     ]
    }
   ],
   "source": [
    "num_steps = 100001\n",
    "\n",
    "with tf.Session(graph=cbow_graph) as session:\n",
    "    tf.initialize_all_variables().run() # Newer versions of tensorflow, it changed name to initialize_all_variables\n",
    "    print('Initialized')\n",
    "    average_loss = 0\n",
    "    for step in range(num_steps):\n",
    "        batch_data, batch_labels = generate_cbow_batch(batch_size, num_skips, skip_window)\n",
    "        feed_dict = {train_dataset : batch_data, train_labels : batch_labels}\n",
    "        _, l = session.run([optimizer, loss], feed_dict=feed_dict)\n",
    "        average_loss += l\n",
    "        if step % 2000 == 0:\n",
    "            if step > 0:\n",
    "                average_loss = average_loss / 2000\n",
    "            # The average loss is an estimate of the loss over the last 2000 batches.\n",
    "            print('Average loss at step %d: %f' % (step, average_loss))\n",
    "            average_loss = 0\n",
    "        # note that this is expensive (~20% slowdown if computed every 500 steps)\n",
    "        if step % 10000 == 0:\n",
    "            sim = similarity.eval()\n",
    "            for i in range(valid_size):\n",
    "                valid_word = reverse_dictionary[valid_examples[i]]\n",
    "                top_k = 8 # number of nearest neighbors\n",
    "                #\n",
    "                # argsort is a numpy function\n",
    "                #\n",
    "                nearest = (-sim[i, :]).argsort()[1:top_k+1]\n",
    "                log = 'Nearest to %s:' % valid_word\n",
    "                for k in range(top_k):\n",
    "                    close_word = reverse_dictionary[nearest[k]]\n",
    "                    log = '%s %s,' % (log, close_word)\n",
    "                print(log)\n",
    "    final_embeddings = normalized_embeddings.eval()"
   ]
  },
  {
   "cell_type": "markdown",
   "metadata": {},
   "source": [
    "### Using tSNE"
   ]
  },
  {
   "cell_type": "code",
   "execution_count": 13,
   "metadata": {},
   "outputs": [
    {
     "name": "stdout",
     "output_type": "stream",
     "text": [
      "(40, 2)\n"
     ]
    },
    {
     "data": {
      "image/png": "[encoded data removed]",
      "text/plain": [
       "<matplotlib.figure.Figure at 0x7f8a52095ed0>"
      ]
     },
     "metadata": {},
     "output_type": "display_data"
    }
   ],
   "source": [
    "num_points = 40\n",
    "\n",
    "tsne = TSNE(perplexity=30, n_components=2, init='pca', n_iter=5000)\n",
    "two_d_embeddings = tsne.fit_transform(final_embeddings[1:num_points+1, :])\n",
    "print(two_d_embeddings.shape)\n",
    "def plot(embeddings, labels):\n",
    "    assert embeddings.shape[0] >= len(labels), 'More labels than embeddings'\n",
    "    pylab.figure(figsize=(15,15))  # in inches\n",
    "    for i, label in enumerate(labels):\n",
    "        x, y = embeddings[i,:]\n",
    "        pylab.scatter(x, y)\n",
    "        pylab.annotate(label, xy=(x, y), xytext=(5, 2), textcoords='offset points',\n",
    "                       ha='right', va='bottom')\n",
    "    pylab.show()\n",
    "\n",
    "words = [reverse_dictionary[i] for i in range(1, num_points+1)]\n",
    "plot(two_d_embeddings, words)"
   ]
  },
  {
   "cell_type": "code",
   "execution_count": null,
   "metadata": {
    "collapsed": true
   },
   "outputs": [],
   "source": []
  }
 ],
 "metadata": {
  "colab": {
   "default_view": {},
   "name": "5_word2vec.ipynb",
   "provenance": [],
   "version": "0.3.2",
   "views": {}
  },
  "kernelspec": {
   "display_name": "Python 2",
   "language": "python",
   "name": "python2"
  },
  "language_info": {
   "codemirror_mode": {
    "name": "ipython",
    "version": 3
   },
   "file_extension": ".py",
   "mimetype": "text/x-python",
   "name": "python",
   "nbconvert_exporter": "python",
   "pygments_lexer": "ipython3",
   "version": "3.4.3"
  }
 },
 "nbformat": 4,
 "nbformat_minor": 1
}
